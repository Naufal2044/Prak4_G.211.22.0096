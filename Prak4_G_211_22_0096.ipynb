{
  "nbformat": 4,
  "nbformat_minor": 0,
  "metadata": {
    "colab": {
      "provenance": []
    },
    "kernelspec": {
      "name": "python3",
      "display_name": "Python 3"
    },
    "language_info": {
      "name": "python"
    }
  },
  "cells": [
    {
      "cell_type": "code",
      "execution_count": 2,
      "metadata": {
        "id": "Y9gWkp7NCBlO",
        "colab": {
          "base_uri": "https://localhost:8080/"
        },
        "outputId": "cbec7e12-aba6-4f07-afdd-799dce24b4ee"
      },
      "outputs": [
        {
          "output_type": "stream",
          "name": "stdout",
          "text": [
            "\"The quick brown fox jumps over the little lazy dog\"\n",
            "\n",
            "is a pangram\n"
          ]
        }
      ],
      "source": [
        "def checkPangram(s):\n",
        "    List = []\n",
        "    for i in range(26):\n",
        "        List.append(False)\n",
        "    for c in s.lower():\n",
        "        if not c == \" \":\n",
        "             List[ord(c) - ord('a')] = True\n",
        "    for ch in List:\n",
        "        if ch == False:\n",
        "            return False\n",
        "    return True\n",
        "sentence = \"The quick brown fox jumps over the little lazy dog\"\n",
        "if (checkPangram(sentence)):\n",
        "    print('\"'+sentence+'\"')\n",
        "    print(\"\\nis a pangram\")\n",
        "else:\n",
        "    print('\"'+sentence+'\"')\n",
        "    print(\"\\nis not a pangram\")"
      ]
    }
  ]
}